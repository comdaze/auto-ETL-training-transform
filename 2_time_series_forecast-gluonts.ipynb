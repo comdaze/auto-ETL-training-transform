{
 "cells": [
  {
   "cell_type": "code",
   "execution_count": null,
   "metadata": {
    "scrolled": true
   },
   "outputs": [],
   "source": [
    "!pip install gluonts -i https://opentuna.cn/pypi/web/simple # gluonts[Prophet]"
   ]
  },
  {
   "cell_type": "code",
   "execution_count": null,
   "metadata": {
    "scrolled": true
   },
   "outputs": [],
   "source": [
    "!sudo yum install -y R readline-devel\n",
    "\n",
    "# nnfor is optional\n",
    "# !sudo R -e 'install.packages(\"remotes\", repos=\"https://cloud.r-project.org\")'\n",
    "# !sudo R -e 'library(remotes) ; install_github(\"cran/plotrix\")'\n",
    "# !sudo R -e 'library(remotes) ; install_github(\"cran/glmnet\")'\n",
    "# !sudo R -e 'install.packages(c(\"nnfor\"), repos=\"https://cloud.r-project.org\", dependencies=TRUE)'\n",
    "\n",
    "!sudo R -e 'install.packages(c(\"forecast\", \"nnfor\"), repos=\"https://cloud.r-project.org\", dependencies=TRUE)'\n",
    "\n",
    "!pip install 'rpy2>=2.9.*,<3.*' -i https://opentuna.cn/pypi/web/simple  # Notice: gluonts need rpy2>=2.9.*,<3.*\n",
    "# or use conda\n",
    "#!conda install -c r rpy2 --yes"
   ]
  },
  {
   "cell_type": "code",
   "execution_count": null,
   "metadata": {
    "scrolled": true
   },
   "outputs": [],
   "source": [
    "!pip install pystan==2.14 -i https://opentuna.cn/pypi/web/simple  # LunarCalendar\n",
    "!pip install fbprophet -i https://opentuna.cn/pypi/web/simple\n",
    "# or below is better\n",
    "# !conda install -c plotly plotly==3.10.0 --yes\n",
    "# !conda install -c conda-forge fbprophet --yes"
   ]
  },
  {
   "cell_type": "code",
   "execution_count": null,
   "metadata": {},
   "outputs": [],
   "source": [
    "%matplotlib inline\n",
    "import mxnet as mx\n",
    "from mxnet import gluon\n",
    "import numpy as np\n",
    "import pandas as pd\n",
    "import matplotlib.pyplot as plt\n",
    "import json\n",
    "import time"
   ]
  },
  {
   "cell_type": "markdown",
   "metadata": {},
   "source": [
    "## Data Prepare"
   ]
  },
  {
   "cell_type": "code",
   "execution_count": null,
   "metadata": {},
   "outputs": [],
   "source": [
    "freq = '1H'\n",
    "prediction_length = 3*24\n",
    "context_length = 7*24"
   ]
  },
  {
   "cell_type": "code",
   "execution_count": null,
   "metadata": {},
   "outputs": [],
   "source": [
    "def load_json(filename):\n",
    "    data = []\n",
    "    with open(filename, 'r') as fin:\n",
    "        while True:\n",
    "            line = fin.readline()\n",
    "            if not line:\n",
    "                break\n",
    "            datai = json.loads(line)\n",
    "            data.append(datai)\n",
    "    return data"
   ]
  },
  {
   "cell_type": "code",
   "execution_count": null,
   "metadata": {},
   "outputs": [],
   "source": [
    "train = load_json('train_'+freq+'.json')\n",
    "test = load_json('test_'+freq+'.json')\n",
    "predict = load_json('predict_'+freq+'.json')\n",
    "\n",
    "# train = load_json('train_'+freq+'_Aug.json')\n",
    "# test = load_json('test_'+freq+'_Aug.json')\n",
    "# predict = load_json('predict_'+freq+'_Aug.json')\n",
    "\n",
    "# train = load_json('train_'+freq+'_Nov.json')\n",
    "# test = load_json('test_'+freq+'_Nov.json')\n",
    "# predict = load_json('predict_'+freq+'_Nov.json')\n",
    "\n",
    "# train = load_json('train_'+freq+'_Dec.json')\n",
    "# test = load_json('test_'+freq+'_Dec.json')\n",
    "# predict = load_json('predict_'+freq+'_Dec.json')\n",
    "\n",
    "print(len(train[0]['target']), len(test[0]['target']), len(predict[0]['target']))"
   ]
  },
  {
   "cell_type": "code",
   "execution_count": null,
   "metadata": {},
   "outputs": [],
   "source": [
    "num_timeseries = len(train)\n",
    "print(num_timeseries)"
   ]
  },
  {
   "cell_type": "code",
   "execution_count": null,
   "metadata": {},
   "outputs": [],
   "source": [
    "from gluonts.dataset.common import ListDataset\n",
    "from gluonts.dataset.field_names import FieldName\n",
    "from gluonts.dataset.util import to_pandas"
   ]
  },
  {
   "cell_type": "code",
   "execution_count": null,
   "metadata": {},
   "outputs": [],
   "source": [
    "predict_list = []\n",
    "for t in predict:\n",
    "    if len(t['target'])>=prediction_length:\n",
    "        predict_list.append({FieldName.TARGET: t['target'], FieldName.FEAT_STATIC_CAT: t['cat'], FieldName.FEAT_DYNAMIC_REAL: t['dynamic_feat'], FieldName.START: t['start'], FieldName.ITEM_ID: t['id']})"
   ]
  },
  {
   "cell_type": "code",
   "execution_count": null,
   "metadata": {},
   "outputs": [],
   "source": [
    "train_ds = ListDataset([{FieldName.TARGET: t['target'], FieldName.FEAT_STATIC_CAT: t['cat'], FieldName.FEAT_DYNAMIC_REAL: t['dynamic_feat'], FieldName.START: t['start'], FieldName.ITEM_ID: t['id']}\n",
    "                        for t in train], freq=freq)\n",
    "test_ds = ListDataset([{FieldName.TARGET: t['target'], FieldName.FEAT_STATIC_CAT: t['cat'], FieldName.FEAT_DYNAMIC_REAL: t['dynamic_feat'], FieldName.START: t['start'], FieldName.ITEM_ID: t['id']}\n",
    "                        for t in test], freq=freq)\n",
    "predict_ds = ListDataset(predict_list, freq=freq)  "
   ]
  },
  {
   "cell_type": "code",
   "execution_count": null,
   "metadata": {},
   "outputs": [],
   "source": [
    "from gluonts.dataset.multivariate_grouper import MultivariateGrouper\n",
    "grouper_train = MultivariateGrouper(max_target_dim=96)\n",
    "train_ds_multi = grouper_train(train_ds)\n",
    "test_ds_multi = grouper_train(test_ds)\n",
    "predict_ds_multi = grouper_train(predict_ds)"
   ]
  },
  {
   "cell_type": "code",
   "execution_count": null,
   "metadata": {},
   "outputs": [],
   "source": [
    "train_entry = next(iter(train_ds))\n",
    "print(train_entry.keys())"
   ]
  },
  {
   "cell_type": "code",
   "execution_count": null,
   "metadata": {},
   "outputs": [],
   "source": [
    "test_entry = next(iter(test_ds))\n",
    "print(test_entry.keys())"
   ]
  },
  {
   "cell_type": "code",
   "execution_count": null,
   "metadata": {},
   "outputs": [],
   "source": [
    "predict_entry = next(iter(predict_ds))\n",
    "print(predict_entry.keys())"
   ]
  },
  {
   "cell_type": "code",
   "execution_count": null,
   "metadata": {},
   "outputs": [],
   "source": [
    "def to_pandas_extend(instance: dict, feat_name: str = 'target', feat_index: int = 0, freq: str = None) -> pd.Series:\n",
    "    \"\"\"\n",
    "    Transform a dictionary into a pandas.Series object, using its\n",
    "    \"start\" and \"target\" fields.\n",
    "\n",
    "    Parameters\n",
    "    ----------\n",
    "    instance\n",
    "        Dictionary containing the time series data.\n",
    "    freq\n",
    "        Frequency to use in the pandas.Series index.\n",
    "\n",
    "    Returns\n",
    "    -------\n",
    "    pandas.Series\n",
    "        Pandas time series object.\n",
    "    \"\"\"\n",
    "    if feat_name == 'target':\n",
    "        target = instance[feat_name]\n",
    "    else:\n",
    "        target = instance[feat_name][feat_index]\n",
    "    start = instance[\"start\"]\n",
    "    if not freq:\n",
    "        freq = start.freqstr\n",
    "    index = pd.date_range(start=start, periods=len(target), freq=freq)\n",
    "    return pd.Series(target, index=index)"
   ]
  },
  {
   "cell_type": "code",
   "execution_count": null,
   "metadata": {},
   "outputs": [],
   "source": [
    "train_series = to_pandas(train_entry)\n",
    "train_series.plot()\n",
    "for i in range(len(train_entry['feat_dynamic_real'])):\n",
    "    train_dynamic_series = to_pandas_extend(train_entry, 'feat_dynamic_real', i)\n",
    "    train_dynamic_series.plot()\n",
    "plt.grid(which=\"both\")\n",
    "plt.legend([\"train series\"]+['dynamic_feat_'+str(i) for i in range(len(train_entry['feat_dynamic_real']))], loc=\"upper left\")\n",
    "plt.show()"
   ]
  },
  {
   "cell_type": "code",
   "execution_count": null,
   "metadata": {},
   "outputs": [],
   "source": [
    "test_series = to_pandas(test_entry)\n",
    "test_series.plot()\n",
    "plt.axvline(train_series.index[-1], color='r') # end of train dataset\n",
    "for i in range(len(test_entry['feat_dynamic_real'])):\n",
    "    test_dynamic_series = to_pandas_extend(test_entry, 'feat_dynamic_real', i)\n",
    "    test_dynamic_series.plot()\n",
    "plt.grid(which=\"both\")\n",
    "plt.legend([\"test series\", \"end of train series\"]+['dynamic_feat_'+str(i) for i in range(len(test_entry['feat_dynamic_real']))], loc=\"upper left\")\n",
    "plt.show()"
   ]
  },
  {
   "cell_type": "code",
   "execution_count": null,
   "metadata": {},
   "outputs": [],
   "source": [
    "predict_series = to_pandas(predict_entry)\n",
    "predict_series.plot()\n",
    "plt.axvline(train_series.index[-1], color='r') # end of train dataset\n",
    "plt.axvline(test_series.index[-1], color='g') # end of test dataset\n",
    "for i in range(len(predict_entry['feat_dynamic_real'])):\n",
    "    predict_dynamic_series = to_pandas_extend(predict_entry, 'feat_dynamic_real', i)\n",
    "    predict_dynamic_series.plot()\n",
    "plt.grid(which=\"both\")\n",
    "plt.legend([\"predict series\", \"end of train series\", \"end of test series\"]+['dynamic_feat_'+str(i) for i in range(len(predict_entry['feat_dynamic_real']))], loc=\"upper left\")\n",
    "plt.show()"
   ]
  },
  {
   "cell_type": "code",
   "execution_count": null,
   "metadata": {},
   "outputs": [],
   "source": [
    "def to_pandas_extend_sum(ds: ListDataset, feat_name: str = 'target', feat_index: int = 0, freq: str = None) -> pd.Series:\n",
    "    result = None\n",
    "    for predict_entry in iter(ds):\n",
    "        predict_series = to_pandas_extend(predict_entry, feat_name, feat_index, freq)\n",
    "        if result is None:\n",
    "            result = predict_series\n",
    "        else:\n",
    "            result = result+predict_series\n",
    "    if feat_name != 'target':\n",
    "        result = result/num_timeseries\n",
    "    return result"
   ]
  },
  {
   "cell_type": "code",
   "execution_count": null,
   "metadata": {},
   "outputs": [],
   "source": [
    "predict_series = to_pandas_extend_sum(predict_ds, 'target')\n",
    "predict_series.plot()\n",
    "plt.axvline(train_series.index[-1], color='r') # end of train dataset\n",
    "plt.axvline(test_series.index[-1], color='g') # end of test dataset\n",
    "for i in range(len(predict_entry['feat_dynamic_real'])):\n",
    "    predict_dynamic_series = to_pandas_extend_sum(predict_ds, 'feat_dynamic_real', i)\n",
    "    predict_dynamic_series.plot()\n",
    "plt.grid(which=\"both\")\n",
    "plt.legend([\"predict series\", \"end of train series\", \"end of test series\"]+['dynamic_feat_'+str(i) for i in range(len(predict_entry['feat_dynamic_real']))], loc=\"upper left\")\n",
    "plt.show()"
   ]
  },
  {
   "cell_type": "code",
   "execution_count": null,
   "metadata": {},
   "outputs": [],
   "source": [
    "estimators = {}\n",
    "predictors = {}"
   ]
  },
  {
   "cell_type": "markdown",
   "metadata": {},
   "source": [
    "## Estimator Model"
   ]
  },
  {
   "cell_type": "code",
   "execution_count": null,
   "metadata": {},
   "outputs": [],
   "source": [
    "from gluonts.model.canonical import CanonicalRNNEstimator\n",
    "from gluonts.model.deep_factor import DeepFactorEstimator\n",
    "from gluonts.model.deepar import DeepAREstimator\n",
    "from gluonts.model.deepstate import DeepStateEstimator\n",
    "from gluonts.model.deepvar import DeepVAREstimator\n",
    "from gluonts.model.gp_forecaster import GaussianProcessEstimator\n",
    "from gluonts.model.gpvar import GPVAREstimator\n",
    "from gluonts.model.lstnet import LSTNetEstimator\n",
    "from gluonts.model.n_beats import NBEATSEstimator\n",
    "from gluonts.model.seq2seq import MQCNNEstimator, MQRNNEstimator, RNN2QRForecaster, Seq2SeqEstimator\n",
    "from gluonts.model.simple_feedforward import SimpleFeedForwardEstimator\n",
    "from gluonts.model.transformer import TransformerEstimator\n",
    "from gluonts.model.wavenet import WaveNetEstimator\n",
    "\n",
    "from gluonts.block.quantile_output import QuantileOutput\n",
    "from gluonts.trainer import Trainer\n",
    "from gluonts.block.encoder import Seq2SeqEncoder"
   ]
  },
  {
   "cell_type": "code",
   "execution_count": null,
   "metadata": {},
   "outputs": [],
   "source": [
    "estimator = CanonicalRNNEstimator(\n",
    "    freq=freq,\n",
    "    prediction_length=prediction_length,\n",
    "    context_length=context_length,\n",
    "    trainer=Trainer(ctx=\"cpu\",\n",
    "                    epochs=200,\n",
    "                    learning_rate=1e-3,\n",
    "                    batch_size=32,\n",
    "                    num_batches_per_epoch=100\n",
    "                   ),\n",
    ")\n",
    "estimators['CanonicalRNN'] = estimator"
   ]
  },
  {
   "cell_type": "code",
   "execution_count": null,
   "metadata": {},
   "outputs": [],
   "source": [
    "estimator = DeepFactorEstimator(\n",
    "    freq=freq,\n",
    "    prediction_length=prediction_length,\n",
    "    context_length=context_length,\n",
    "    trainer=Trainer(ctx=\"cpu\",\n",
    "                    epochs=200,\n",
    "                    learning_rate=1e-3,\n",
    "                    batch_size=32,\n",
    "                    num_batches_per_epoch=100\n",
    "                   ),\n",
    ")\n",
    "estimators['DeepFactor'] = estimator"
   ]
  },
  {
   "cell_type": "code",
   "execution_count": null,
   "metadata": {},
   "outputs": [],
   "source": [
    "estimator = DeepAREstimator(\n",
    "    freq=freq,\n",
    "    prediction_length=prediction_length,\n",
    "    context_length=context_length,\n",
    "    trainer=Trainer(ctx=\"cpu\",\n",
    "                    epochs=200,\n",
    "                    learning_rate=1e-3,\n",
    "                    batch_size=32,\n",
    "                    num_batches_per_epoch=100\n",
    "                   ),\n",
    "    use_feat_dynamic_real=True,  # True\n",
    "    use_feat_static_cat=True,  # True\n",
    "#     cardinality=[61]\n",
    "    cardinality=[17]\n",
    ")\n",
    "estimators['DeepAR'] = estimator"
   ]
  },
  {
   "cell_type": "code",
   "execution_count": null,
   "metadata": {},
   "outputs": [],
   "source": [
    "estimator = DeepStateEstimator(\n",
    "    freq=freq,\n",
    "    prediction_length=prediction_length,\n",
    "    trainer=Trainer(ctx=\"cpu\",\n",
    "                    epochs=200,\n",
    "                    learning_rate=1e-3,\n",
    "                    batch_size=32,\n",
    "                    num_batches_per_epoch=100\n",
    "                   ),\n",
    "    use_feat_dynamic_real=True,  # True\n",
    "    use_feat_static_cat=True,  # True\n",
    "#     cardinality=[61]\n",
    "    cardinality=[17]\n",
    ")\n",
    "estimators['DeepState'] = estimator"
   ]
  },
  {
   "cell_type": "code",
   "execution_count": null,
   "metadata": {},
   "outputs": [],
   "source": [
    "estimator = DeepVAREstimator(  # use multi\n",
    "    freq=freq,\n",
    "    prediction_length=prediction_length,\n",
    "    context_length=context_length,\n",
    "    trainer=Trainer(ctx=\"cpu\",\n",
    "                    epochs=200,\n",
    "                    learning_rate=1e-3,\n",
    "                    batch_size=32,\n",
    "                    num_batches_per_epoch=100\n",
    "                   ),\n",
    "    target_dim=96\n",
    ")\n",
    "estimators['DeepVAR'] = estimator"
   ]
  },
  {
   "cell_type": "code",
   "execution_count": null,
   "metadata": {},
   "outputs": [],
   "source": [
    "estimator = GaussianProcessEstimator(\n",
    "    freq=freq,\n",
    "    prediction_length=prediction_length,\n",
    "    context_length=context_length,\n",
    "    trainer=Trainer(ctx=\"cpu\",\n",
    "                    epochs=200,\n",
    "                    learning_rate=1e-3,\n",
    "                    batch_size=32,\n",
    "                    num_batches_per_epoch=100\n",
    "                   ),\n",
    "    #     cardinality=61\n",
    "    cardinality=17\n",
    ")\n",
    "estimators['GaussianProcess'] = estimator"
   ]
  },
  {
   "cell_type": "code",
   "execution_count": null,
   "metadata": {},
   "outputs": [],
   "source": [
    "estimator = GPVAREstimator(  # use multi\n",
    "    freq=freq,\n",
    "    prediction_length=prediction_length,\n",
    "    context_length=context_length,\n",
    "    trainer=Trainer(ctx=\"cpu\",\n",
    "                    epochs=200,\n",
    "                    learning_rate=1e-3,\n",
    "                    batch_size=32,\n",
    "                    num_batches_per_epoch=100\n",
    "                   ),\n",
    "    target_dim=96\n",
    ")\n",
    "estimators['GPVAR'] = estimator"
   ]
  },
  {
   "cell_type": "code",
   "execution_count": null,
   "metadata": {},
   "outputs": [],
   "source": [
    "estimator = LSTNetEstimator(  # use multi\n",
    "    freq=freq,\n",
    "    prediction_length=prediction_length,\n",
    "    context_length=context_length,\n",
    "    num_series=96,\n",
    "    skip_size=4,\n",
    "    ar_window=4,\n",
    "    channels=72,\n",
    "    trainer=Trainer(ctx=\"cpu\",\n",
    "                    epochs=200,\n",
    "                    learning_rate=1e-3,\n",
    "                    batch_size=32,\n",
    "                    num_batches_per_epoch=100\n",
    "                   ),\n",
    ")\n",
    "estimators['LSTNet'] = estimator"
   ]
  },
  {
   "cell_type": "code",
   "execution_count": null,
   "metadata": {},
   "outputs": [],
   "source": [
    "estimator = NBEATSEstimator(\n",
    "    freq=freq,\n",
    "    prediction_length=prediction_length,\n",
    "    context_length=context_length,\n",
    "    trainer=Trainer(ctx=\"cpu\",\n",
    "                    epochs=200,\n",
    "                    learning_rate=1e-3,\n",
    "                    batch_size=32,\n",
    "                    num_batches_per_epoch=100\n",
    "                   ),\n",
    ")\n",
    "estimators['NBEATS'] = estimator"
   ]
  },
  {
   "cell_type": "code",
   "execution_count": null,
   "metadata": {},
   "outputs": [],
   "source": [
    "estimator = MQCNNEstimator(\n",
    "    freq=freq,\n",
    "    prediction_length=prediction_length,\n",
    "    context_length=context_length,\n",
    "    trainer=Trainer(ctx=\"cpu\",\n",
    "                    epochs=200,\n",
    "                    learning_rate=1e-3,\n",
    "                    batch_size=32,\n",
    "                    num_batches_per_epoch=100\n",
    "                   ),\n",
    ")\n",
    "estimators['MQCNN'] = estimator"
   ]
  },
  {
   "cell_type": "code",
   "execution_count": null,
   "metadata": {},
   "outputs": [],
   "source": [
    "estimator = MQRNNEstimator(\n",
    "    freq=freq,\n",
    "    prediction_length=prediction_length,\n",
    "    context_length=context_length,\n",
    "    trainer=Trainer(ctx=\"cpu\",\n",
    "                    epochs=200,\n",
    "                    learning_rate=1e-3,\n",
    "                    batch_size=32,\n",
    "                    num_batches_per_epoch=100\n",
    "                   ),\n",
    ")\n",
    "estimators['MQRNN'] = estimator"
   ]
  },
  {
   "cell_type": "code",
   "execution_count": null,
   "metadata": {},
   "outputs": [],
   "source": [
    "# # TODO\n",
    "# estimator = RNN2QRForecaster(\n",
    "#     freq=freq,\n",
    "#     prediction_length=prediction_length,\n",
    "#     context_length=context_length,\n",
    "#     trainer=Trainer(ctx=\"cpu\",\n",
    "#                     epochs=200,\n",
    "#                     learning_rate=1e-3,\n",
    "#                     batch_size=32,\n",
    "#                     num_batches_per_epoch=100\n",
    "#                    ),\n",
    "# #     cardinality=[61]\n",
    "#     cardinality=[17],\n",
    "#     embedding_dimension=4,\n",
    "#     encoder_rnn_layer=4,\n",
    "#     encoder_rnn_num_hidden=4,\n",
    "#     decoder_mlp_layer=[4],\n",
    "#     decoder_mlp_static_dim=4\n",
    "# )\n",
    "# estimators['RNN2QR'] = estimator"
   ]
  },
  {
   "cell_type": "code",
   "execution_count": null,
   "metadata": {},
   "outputs": [],
   "source": [
    "# # TODO\n",
    "# estimator = Seq2SeqEstimator(\n",
    "#     freq=freq,\n",
    "#     prediction_length=prediction_length,\n",
    "#     context_length=context_length,\n",
    "#     trainer=Trainer(ctx=\"cpu\",\n",
    "#                     epochs=200,\n",
    "#                     learning_rate=1e-3,\n",
    "#                     batch_size=32,\n",
    "#                     num_batches_per_epoch=100\n",
    "#                    ),\n",
    "# #     cardinality=[61]\n",
    "#     cardinality=[17],\n",
    "#     embedding_dimension=4,\n",
    "#     encoder=Seq2SeqEncoder(),\n",
    "#     decoder_mlp_layer=[4],\n",
    "#     decoder_mlp_static_dim=4\n",
    "# )\n",
    "# estimators['Seq2Seq'] = estimator"
   ]
  },
  {
   "cell_type": "code",
   "execution_count": null,
   "metadata": {},
   "outputs": [],
   "source": [
    "estimator = SimpleFeedForwardEstimator(\n",
    "    num_hidden_dimensions=[40, 40],\n",
    "    prediction_length=prediction_length,\n",
    "    context_length=context_length,\n",
    "    freq=freq,\n",
    "    trainer=Trainer(ctx=\"cpu\",\n",
    "                    epochs=200,\n",
    "                    learning_rate=1e-3,\n",
    "                    batch_size=32,\n",
    "                    num_batches_per_epoch=100\n",
    "                   )\n",
    ")\n",
    "estimators['SimpleFeedForward'] = estimator"
   ]
  },
  {
   "cell_type": "code",
   "execution_count": null,
   "metadata": {},
   "outputs": [],
   "source": [
    "estimator = TransformerEstimator(\n",
    "    freq=freq,\n",
    "    prediction_length=prediction_length,\n",
    "    trainer=Trainer(ctx=\"cpu\",\n",
    "                    epochs=200,\n",
    "                    learning_rate=1e-3,\n",
    "                    batch_size=32,\n",
    "                    num_batches_per_epoch=100\n",
    "                   ),\n",
    "#     cardinality=[61]\n",
    "    cardinality=[17]\n",
    ")\n",
    "estimators['Transformer'] = estimator"
   ]
  },
  {
   "cell_type": "code",
   "execution_count": null,
   "metadata": {},
   "outputs": [],
   "source": [
    "estimator = WaveNetEstimator(\n",
    "    freq=freq,\n",
    "    prediction_length=prediction_length,\n",
    "    trainer=Trainer(ctx=\"cpu\",\n",
    "                    epochs=200,\n",
    "                    learning_rate=1e-3,\n",
    "                    batch_size=32,\n",
    "                    num_batches_per_epoch=100\n",
    "                   ),\n",
    "#     cardinality=[61]\n",
    "    cardinality=[17]\n",
    ")\n",
    "estimators['WaveNet'] = estimator"
   ]
  },
  {
   "cell_type": "code",
   "execution_count": 22,
   "metadata": {
    "scrolled": true
   },
   "outputs": [
    {
     "name": "stderr",
     "output_type": "stream",
     "text": [
      "100%|██████████| 100/100 [00:20<00:00,  4.87it/s, epoch=5/200, avg_epoch_loss=-1.4]\n",
      "100%|██████████| 100/100 [00:20<00:00,  4.92it/s, epoch=6/200, avg_epoch_loss=-1.43]\n",
      "100%|██████████| 100/100 [00:20<00:00,  4.98it/s, epoch=7/200, avg_epoch_loss=-1.53]\n",
      "100%|██████████| 100/100 [00:20<00:00,  4.92it/s, epoch=8/200, avg_epoch_loss=-1.53]\n",
      "100%|██████████| 100/100 [00:21<00:00,  4.63it/s, epoch=9/200, avg_epoch_loss=-1.59]\n",
      "100%|██████████| 100/100 [00:20<00:00,  4.92it/s, epoch=10/200, avg_epoch_loss=-1.56]\n",
      "100%|██████████| 100/100 [00:19<00:00,  5.10it/s, epoch=11/200, avg_epoch_loss=-1.63]\n",
      "100%|██████████| 100/100 [00:20<00:00,  4.99it/s, epoch=12/200, avg_epoch_loss=-1.56]\n",
      "100%|██████████| 100/100 [00:20<00:00,  4.97it/s, epoch=13/200, avg_epoch_loss=-1.66]\n",
      "100%|██████████| 100/100 [00:20<00:00,  4.88it/s, epoch=14/200, avg_epoch_loss=-1.6]\n",
      "100%|██████████| 100/100 [00:20<00:00,  4.89it/s, epoch=15/200, avg_epoch_loss=-1.63]\n",
      "100%|██████████| 100/100 [00:19<00:00,  5.02it/s, epoch=16/200, avg_epoch_loss=-1.63]\n",
      "100%|██████████| 100/100 [00:20<00:00,  4.91it/s, epoch=17/200, avg_epoch_loss=-1.6]\n",
      "100%|██████████| 100/100 [00:20<00:00,  4.92it/s, epoch=18/200, avg_epoch_loss=-1.65]\n",
      "100%|██████████| 100/100 [00:20<00:00,  4.83it/s, epoch=19/200, avg_epoch_loss=-1.68]\n",
      "100%|██████████| 100/100 [00:20<00:00,  4.99it/s, epoch=20/200, avg_epoch_loss=-1.64]\n",
      "100%|██████████| 100/100 [00:20<00:00,  4.87it/s, epoch=21/200, avg_epoch_loss=-1.68]\n",
      "100%|██████████| 100/100 [00:20<00:00,  4.97it/s, epoch=22/200, avg_epoch_loss=-1.68]\n",
      "100%|██████████| 100/100 [00:21<00:00,  4.76it/s, epoch=23/200, avg_epoch_loss=-1.68]\n",
      "100%|██████████| 100/100 [00:20<00:00,  4.85it/s, epoch=24/200, avg_epoch_loss=-1.69]\n",
      "100%|██████████| 100/100 [00:20<00:00,  4.93it/s, epoch=25/200, avg_epoch_loss=-1.67]\n",
      "100%|██████████| 100/100 [00:19<00:00,  5.04it/s, epoch=26/200, avg_epoch_loss=-1.76]\n",
      "100%|██████████| 100/100 [00:20<00:00,  4.96it/s, epoch=27/200, avg_epoch_loss=-1.78]\n",
      "100%|██████████| 100/100 [00:19<00:00,  5.08it/s, epoch=28/200, avg_epoch_loss=-1.69]\n",
      "100%|██████████| 100/100 [00:20<00:00,  4.86it/s, epoch=29/200, avg_epoch_loss=-1.77]\n",
      "100%|██████████| 100/100 [00:20<00:00,  4.90it/s, epoch=30/200, avg_epoch_loss=-1.82]\n",
      "100%|██████████| 100/100 [00:20<00:00,  4.92it/s, epoch=31/200, avg_epoch_loss=-1.71]\n",
      "100%|██████████| 100/100 [00:20<00:00,  4.93it/s, epoch=32/200, avg_epoch_loss=-1.73]\n",
      "100%|██████████| 100/100 [00:20<00:00,  4.85it/s, epoch=33/200, avg_epoch_loss=-1.76]\n",
      "100%|██████████| 100/100 [00:20<00:00,  4.89it/s, epoch=34/200, avg_epoch_loss=-1.81]\n",
      "100%|██████████| 100/100 [00:20<00:00,  4.91it/s, epoch=35/200, avg_epoch_loss=-1.79]\n",
      "100%|██████████| 100/100 [00:20<00:00,  4.94it/s, epoch=36/200, avg_epoch_loss=-1.83]\n",
      "100%|██████████| 100/100 [00:20<00:00,  4.97it/s, epoch=37/200, avg_epoch_loss=-1.79]\n",
      "100%|██████████| 100/100 [00:19<00:00,  5.08it/s, epoch=38/200, avg_epoch_loss=-1.79]\n",
      "100%|██████████| 100/100 [00:19<00:00,  5.04it/s, epoch=39/200, avg_epoch_loss=-1.82]\n",
      "100%|██████████| 100/100 [00:20<00:00,  4.93it/s, epoch=40/200, avg_epoch_loss=-1.8]\n",
      "100%|██████████| 100/100 [00:20<00:00,  4.84it/s, epoch=41/200, avg_epoch_loss=-1.83]\n",
      "100%|██████████| 100/100 [00:20<00:00,  4.81it/s, epoch=42/200, avg_epoch_loss=-1.83]\n",
      "100%|██████████| 100/100 [00:20<00:00,  4.89it/s, epoch=43/200, avg_epoch_loss=-1.87]\n",
      "100%|██████████| 100/100 [00:20<00:00,  4.90it/s, epoch=44/200, avg_epoch_loss=-1.83]\n",
      "100%|██████████| 100/100 [00:20<00:00,  4.84it/s, epoch=45/200, avg_epoch_loss=-1.84]\n",
      "100%|██████████| 100/100 [00:20<00:00,  4.85it/s, epoch=46/200, avg_epoch_loss=-1.87]\n",
      "100%|██████████| 100/100 [00:20<00:00,  4.80it/s, epoch=47/200, avg_epoch_loss=-1.84]\n",
      "100%|██████████| 100/100 [00:20<00:00,  4.89it/s, epoch=48/200, avg_epoch_loss=-1.82]\n",
      "100%|██████████| 100/100 [00:20<00:00,  4.86it/s, epoch=49/200, avg_epoch_loss=-1.76]\n",
      "100%|██████████| 100/100 [00:20<00:00,  4.78it/s, epoch=50/200, avg_epoch_loss=-1.8]\n",
      "100%|██████████| 100/100 [00:20<00:00,  4.89it/s, epoch=51/200, avg_epoch_loss=-1.91]\n",
      "100%|██████████| 100/100 [00:20<00:00,  4.79it/s, epoch=52/200, avg_epoch_loss=-1.84]\n",
      "100%|██████████| 100/100 [00:20<00:00,  4.81it/s, epoch=53/200, avg_epoch_loss=-1.89]\n",
      "100%|██████████| 100/100 [00:20<00:00,  4.90it/s, epoch=54/200, avg_epoch_loss=-1.91]\n",
      "100%|██████████| 100/100 [00:20<00:00,  4.83it/s, epoch=55/200, avg_epoch_loss=-1.88]\n",
      "100%|██████████| 100/100 [00:20<00:00,  4.90it/s, epoch=56/200, avg_epoch_loss=-1.91]\n",
      "100%|██████████| 100/100 [00:20<00:00,  4.86it/s, epoch=57/200, avg_epoch_loss=-1.85]\n",
      "100%|██████████| 100/100 [00:21<00:00,  4.72it/s, epoch=58/200, avg_epoch_loss=-1.95]\n",
      "100%|██████████| 100/100 [00:20<00:00,  4.97it/s, epoch=59/200, avg_epoch_loss=-1.88]\n",
      "100%|██████████| 100/100 [00:20<00:00,  4.95it/s, epoch=60/200, avg_epoch_loss=-1.83]\n",
      "100%|██████████| 100/100 [00:20<00:00,  4.87it/s, epoch=61/200, avg_epoch_loss=-1.93]\n",
      "100%|██████████| 100/100 [00:20<00:00,  4.84it/s, epoch=62/200, avg_epoch_loss=-1.86]\n",
      "100%|██████████| 100/100 [00:20<00:00,  4.87it/s, epoch=63/200, avg_epoch_loss=-1.9]\n",
      "100%|██████████| 100/100 [00:20<00:00,  4.90it/s, epoch=64/200, avg_epoch_loss=-1.86]\n",
      "100%|██████████| 100/100 [00:20<00:00,  4.97it/s, epoch=65/200, avg_epoch_loss=-1.88]\n",
      "100%|██████████| 100/100 [00:20<00:00,  4.87it/s, epoch=66/200, avg_epoch_loss=-1.82]\n",
      "100%|██████████| 100/100 [00:20<00:00,  4.80it/s, epoch=67/200, avg_epoch_loss=-1.84]\n",
      "100%|██████████| 100/100 [00:20<00:00,  4.88it/s, epoch=68/200, avg_epoch_loss=-1.86]\n",
      "100%|██████████| 100/100 [00:20<00:00,  4.91it/s, epoch=69/200, avg_epoch_loss=-1.92]\n",
      "100%|██████████| 100/100 [00:20<00:00,  4.93it/s, epoch=70/200, avg_epoch_loss=-1.99]\n",
      "100%|██████████| 100/100 [00:19<00:00,  5.03it/s, epoch=71/200, avg_epoch_loss=-1.91]\n",
      "100%|██████████| 100/100 [00:20<00:00,  4.85it/s, epoch=72/200, avg_epoch_loss=-1.95]\n",
      "100%|██████████| 100/100 [00:21<00:00,  4.63it/s, epoch=73/200, avg_epoch_loss=-1.93]\n",
      "100%|██████████| 100/100 [00:20<00:00,  4.80it/s, epoch=74/200, avg_epoch_loss=-1.91]\n",
      "100%|██████████| 100/100 [00:20<00:00,  4.88it/s, epoch=75/200, avg_epoch_loss=-2]  \n",
      "100%|██████████| 100/100 [00:20<00:00,  4.79it/s, epoch=76/200, avg_epoch_loss=-1.9]\n",
      "100%|██████████| 100/100 [00:20<00:00,  4.82it/s, epoch=77/200, avg_epoch_loss=-1.92]\n",
      "100%|██████████| 100/100 [00:20<00:00,  4.89it/s, epoch=78/200, avg_epoch_loss=-1.97]\n",
      "100%|██████████| 100/100 [00:20<00:00,  4.94it/s, epoch=79/200, avg_epoch_loss=-2.01]\n",
      "100%|██████████| 100/100 [00:20<00:00,  4.85it/s, epoch=80/200, avg_epoch_loss=-2.04]\n",
      "100%|██████████| 100/100 [00:20<00:00,  4.84it/s, epoch=81/200, avg_epoch_loss=-1.99]\n",
      "100%|██████████| 100/100 [00:20<00:00,  4.85it/s, epoch=82/200, avg_epoch_loss=-1.95]\n",
      "100%|██████████| 100/100 [00:20<00:00,  4.87it/s, epoch=83/200, avg_epoch_loss=-1.98]\n",
      "100%|██████████| 100/100 [00:20<00:00,  4.90it/s, epoch=84/200, avg_epoch_loss=-1.95]\n",
      "100%|██████████| 100/100 [00:20<00:00,  4.78it/s, epoch=85/200, avg_epoch_loss=-1.95]\n",
      "100%|██████████| 100/100 [00:20<00:00,  4.85it/s, epoch=86/200, avg_epoch_loss=-1.95]\n",
      "100%|██████████| 100/100 [00:20<00:00,  4.96it/s, epoch=87/200, avg_epoch_loss=-1.98]\n",
      "100%|██████████| 100/100 [00:20<00:00,  4.84it/s, epoch=88/200, avg_epoch_loss=-2]  \n",
      "100%|██████████| 100/100 [00:20<00:00,  4.84it/s, epoch=89/200, avg_epoch_loss=-1.97]\n",
      "100%|██████████| 100/100 [00:20<00:00,  4.87it/s, epoch=90/200, avg_epoch_loss=-1.99]\n",
      "100%|██████████| 100/100 [00:20<00:00,  4.90it/s, epoch=91/200, avg_epoch_loss=-1.99]\n",
      "100%|██████████| 100/100 [00:20<00:00,  4.83it/s, epoch=92/200, avg_epoch_loss=-2.01]\n",
      "100%|██████████| 100/100 [00:21<00:00,  4.73it/s, epoch=93/200, avg_epoch_loss=-2.02]\n",
      "100%|██████████| 100/100 [00:20<00:00,  4.84it/s, epoch=94/200, avg_epoch_loss=-1.99]\n",
      "100%|██████████| 100/100 [00:20<00:00,  4.84it/s, epoch=95/200, avg_epoch_loss=-1.98]\n",
      "100%|██████████| 100/100 [00:20<00:00,  4.84it/s, epoch=96/200, avg_epoch_loss=-2]  \n",
      "100%|██████████| 100/100 [00:20<00:00,  4.89it/s, epoch=97/200, avg_epoch_loss=-2.03]\n",
      "100%|██████████| 100/100 [00:20<00:00,  4.86it/s, epoch=98/200, avg_epoch_loss=-1.98]\n",
      "100%|██████████| 100/100 [00:20<00:00,  4.86it/s, epoch=99/200, avg_epoch_loss=-2.01]\n",
      "100%|██████████| 100/100 [00:20<00:00,  4.86it/s, epoch=100/200, avg_epoch_loss=-2.07]\n",
      "100%|██████████| 100/100 [00:20<00:00,  4.87it/s, epoch=101/200, avg_epoch_loss=-2.04]\n",
      "100%|██████████| 100/100 [00:21<00:00,  4.74it/s, epoch=102/200, avg_epoch_loss=-2.01]\n",
      "100%|██████████| 100/100 [00:20<00:00,  4.90it/s, epoch=103/200, avg_epoch_loss=-2.02]\n",
      "100%|██████████| 100/100 [00:20<00:00,  4.95it/s, epoch=104/200, avg_epoch_loss=-2.01]\n",
      "100%|██████████| 100/100 [00:20<00:00,  4.94it/s, epoch=105/200, avg_epoch_loss=-2.02]\n",
      "100%|██████████| 100/100 [00:20<00:00,  4.92it/s, epoch=106/200, avg_epoch_loss=-2.04]\n",
      "100%|██████████| 100/100 [00:20<00:00,  4.86it/s, epoch=107/200, avg_epoch_loss=-2.08]\n",
      "100%|██████████| 100/100 [00:20<00:00,  4.83it/s, epoch=108/200, avg_epoch_loss=-2.04]\n",
      "100%|██████████| 100/100 [00:20<00:00,  4.80it/s, epoch=109/200, avg_epoch_loss=-2.04]\n",
      "100%|██████████| 100/100 [00:20<00:00,  4.90it/s, epoch=110/200, avg_epoch_loss=-2.07]\n",
      "100%|██████████| 100/100 [00:21<00:00,  4.73it/s, epoch=111/200, avg_epoch_loss=-1.98]\n",
      "100%|██████████| 100/100 [00:21<00:00,  4.63it/s, epoch=112/200, avg_epoch_loss=-2.05]\n",
      "100%|██████████| 100/100 [00:22<00:00,  4.50it/s, epoch=113/200, avg_epoch_loss=-2.05]\n",
      "100%|██████████| 100/100 [00:23<00:00,  4.30it/s, epoch=114/200, avg_epoch_loss=-2.05]\n",
      "100%|██████████| 100/100 [00:24<00:00,  4.00it/s, epoch=115/200, avg_epoch_loss=-2.05]\n",
      "100%|██████████| 100/100 [00:24<00:00,  4.03it/s, epoch=116/200, avg_epoch_loss=-2.14]\n",
      "100%|██████████| 100/100 [00:22<00:00,  4.43it/s, epoch=117/200, avg_epoch_loss=-2.06]\n",
      "100%|██████████| 100/100 [00:22<00:00,  4.45it/s, epoch=118/200, avg_epoch_loss=-2.11]\n",
      "100%|██████████| 100/100 [00:22<00:00,  4.46it/s, epoch=119/200, avg_epoch_loss=-2.05]\n",
      "100%|██████████| 100/100 [00:20<00:00,  4.81it/s, epoch=120/200, avg_epoch_loss=-2.06]\n",
      "100%|██████████| 100/100 [00:20<00:00,  4.87it/s, epoch=121/200, avg_epoch_loss=-2.09]\n",
      "100%|██████████| 100/100 [00:22<00:00,  4.49it/s, epoch=122/200, avg_epoch_loss=-2.02]\n",
      "100%|██████████| 100/100 [00:20<00:00,  4.82it/s, epoch=123/200, avg_epoch_loss=-2.11]\n",
      "100%|██████████| 100/100 [00:20<00:00,  4.84it/s, epoch=124/200, avg_epoch_loss=-1.97]\n",
      "100%|██████████| 100/100 [00:20<00:00,  4.85it/s, epoch=125/200, avg_epoch_loss=-2.03]\n",
      "100%|██████████| 100/100 [00:21<00:00,  4.74it/s, epoch=126/200, avg_epoch_loss=-2.08]\n",
      "100%|██████████| 100/100 [00:20<00:00,  4.83it/s, epoch=127/200, avg_epoch_loss=-2.1]\n",
      "100%|██████████| 100/100 [00:20<00:00,  4.86it/s, epoch=128/200, avg_epoch_loss=-2.09]\n",
      "100%|██████████| 100/100 [00:23<00:00,  4.18it/s, epoch=129/200, avg_epoch_loss=-2.08]\n",
      "100%|██████████| 100/100 [00:24<00:00,  4.15it/s, epoch=130/200, avg_epoch_loss=-2.11]\n",
      "100%|██████████| 100/100 [00:24<00:00,  4.16it/s, epoch=131/200, avg_epoch_loss=-2.09]\n",
      "100%|██████████| 100/100 [00:23<00:00,  4.18it/s, epoch=132/200, avg_epoch_loss=-2.06]\n",
      "100%|██████████| 100/100 [00:24<00:00,  4.11it/s, epoch=133/200, avg_epoch_loss=-2.07]\n",
      "100%|██████████| 100/100 [00:23<00:00,  4.19it/s, epoch=134/200, avg_epoch_loss=-2.16]\n",
      "100%|██████████| 100/100 [00:24<00:00,  4.13it/s, epoch=135/200, avg_epoch_loss=-2.07]\n",
      "100%|██████████| 100/100 [00:23<00:00,  4.18it/s, epoch=136/200, avg_epoch_loss=-2.06]\n",
      "100%|██████████| 100/100 [00:23<00:00,  4.31it/s, epoch=137/200, avg_epoch_loss=-2.07]\n",
      "100%|██████████| 100/100 [00:24<00:00,  4.13it/s, epoch=138/200, avg_epoch_loss=-2.1]\n",
      "100%|██████████| 100/100 [00:23<00:00,  4.24it/s, epoch=139/200, avg_epoch_loss=-2.12]\n",
      "100%|██████████| 100/100 [00:23<00:00,  4.17it/s, epoch=140/200, avg_epoch_loss=-2.06]\n",
      "100%|██████████| 100/100 [00:24<00:00,  4.13it/s, epoch=141/200, avg_epoch_loss=-2.08]\n",
      "100%|██████████| 100/100 [00:24<00:00,  4.16it/s, epoch=142/200, avg_epoch_loss=-2.1]\n",
      "100%|██████████| 100/100 [00:24<00:00,  4.16it/s, epoch=143/200, avg_epoch_loss=-2.06]\n",
      "100%|██████████| 100/100 [00:23<00:00,  4.19it/s, epoch=144/200, avg_epoch_loss=-2.13]\n",
      "100%|██████████| 100/100 [00:24<00:00,  4.14it/s, epoch=145/200, avg_epoch_loss=-2.01]\n",
      "100%|██████████| 100/100 [00:24<00:00,  4.15it/s, epoch=146/200, avg_epoch_loss=-2.12]\n",
      "100%|██████████| 100/100 [00:23<00:00,  4.20it/s, epoch=147/200, avg_epoch_loss=-2.05]\n",
      "100%|██████████| 100/100 [00:24<00:00,  4.15it/s, epoch=148/200, avg_epoch_loss=-2.15]\n",
      "100%|██████████| 100/100 [00:23<00:00,  4.24it/s, epoch=149/200, avg_epoch_loss=-2.09]\n",
      "100%|██████████| 100/100 [00:24<00:00,  4.11it/s, epoch=150/200, avg_epoch_loss=-2.11]\n",
      "100%|██████████| 100/100 [00:23<00:00,  4.19it/s, epoch=151/200, avg_epoch_loss=-2.09]\n",
      "100%|██████████| 100/100 [00:23<00:00,  4.21it/s, epoch=152/200, avg_epoch_loss=-2.08]\n",
      "100%|██████████| 100/100 [00:24<00:00,  4.13it/s, epoch=153/200, avg_epoch_loss=-2.14]\n",
      "100%|██████████| 100/100 [00:24<00:00,  4.14it/s, epoch=154/200, avg_epoch_loss=-2.11]\n",
      "100%|██████████| 100/100 [00:24<00:00,  4.16it/s, epoch=155/200, avg_epoch_loss=-2.09]\n",
      "100%|██████████| 100/100 [00:23<00:00,  4.20it/s, epoch=156/200, avg_epoch_loss=-2.16]\n",
      "100%|██████████| 100/100 [00:24<00:00,  4.16it/s, epoch=157/200, avg_epoch_loss=-2.07]\n",
      "100%|██████████| 100/100 [00:23<00:00,  4.21it/s, epoch=158/200, avg_epoch_loss=-2.08]\n",
      "100%|██████████| 100/100 [00:24<00:00,  4.09it/s, epoch=159/200, avg_epoch_loss=-2.12]\n",
      "100%|██████████| 100/100 [00:25<00:00,  3.90it/s, epoch=160/200, avg_epoch_loss=-2.1]\n",
      "100%|██████████| 100/100 [00:20<00:00,  4.88it/s, epoch=161/200, avg_epoch_loss=-2.14]\n",
      "100%|██████████| 100/100 [00:20<00:00,  4.80it/s, epoch=162/200, avg_epoch_loss=-2.12]\n",
      "100%|██████████| 100/100 [00:20<00:00,  4.92it/s, epoch=163/200, avg_epoch_loss=-2.11]\n",
      "100%|██████████| 100/100 [00:20<00:00,  4.89it/s, epoch=164/200, avg_epoch_loss=-2.07]\n",
      "100%|██████████| 100/100 [00:20<00:00,  4.82it/s, epoch=165/200, avg_epoch_loss=-2.06]\n",
      "100%|██████████| 100/100 [00:20<00:00,  4.80it/s, epoch=166/200, avg_epoch_loss=-2.06]"
     ]
    },
    {
     "name": "stdout",
     "output_type": "stream",
     "text": [
      "DeepAR 3540.4265463352203\n",
      "CPU times: user 3h 56min, sys: 2min 46s, total: 3h 58min 46s\n",
      "Wall time: 59min\n"
     ]
    },
    {
     "name": "stderr",
     "output_type": "stream",
     "text": [
      "\n"
     ]
    }
   ],
   "source": [
    "%%time\n",
    "\n",
    "for name, estimator in estimators.items():\n",
    "    start = time.time()\n",
    "    try:\n",
    "        predictor1 = estimator.train(train_ds)\n",
    "    except:\n",
    "        predictor1 = estimator.train(train_ds_multi)\n",
    "    predictors[name] = predictor1\n",
    "    end = time.time()\n",
    "    print(name, end-start)"
   ]
  },
  {
   "cell_type": "code",
   "execution_count": null,
   "metadata": {},
   "outputs": [],
   "source": [
    "from pathlib import Path"
   ]
  },
  {
   "cell_type": "code",
   "execution_count": null,
   "metadata": {},
   "outputs": [],
   "source": [
    "!mkdir -p gluonts_model/deepar/\n",
    "\n",
    "# save the trained model in tmp/\n",
    "predictor1.serialize(Path(\"gluonts_model/deepar/\"))"
   ]
  },
  {
   "cell_type": "code",
   "execution_count": null,
   "metadata": {},
   "outputs": [],
   "source": [
    "# loads it back\n",
    "from gluonts.model.predictor import Predictor\n",
    "predictor1 = Predictor.deserialize(Path(\"gluonts_model/deepar/\"))"
   ]
  },
  {
   "cell_type": "markdown",
   "metadata": {},
   "source": [
    "## Predictor Model"
   ]
  },
  {
   "cell_type": "code",
   "execution_count": null,
   "metadata": {},
   "outputs": [],
   "source": [
    "from gluonts.model.naive_2 import Naive2Predictor\n",
    "from gluonts.model.npts import NPTSPredictor\n",
    "from gluonts.model.prophet import ProphetPredictor\n",
    "from gluonts.model.r_forecast import RForecastPredictor\n",
    "from gluonts.model.seasonal_naive import SeasonalNaivePredictor"
   ]
  },
  {
   "cell_type": "code",
   "execution_count": null,
   "metadata": {},
   "outputs": [],
   "source": [
    "# %%time\n",
    "# # TODO Multiplicative seasonality is not appropriate for zero and negative values\n",
    "# predictor2 = Naive2Predictor(freq=freq, prediction_length=prediction_length, season_length=context_length)\n",
    "# predictors['Naive2'] = predictor2"
   ]
  },
  {
   "cell_type": "code",
   "execution_count": null,
   "metadata": {},
   "outputs": [],
   "source": [
    "%%time\n",
    "\n",
    "predictor2 = NPTSPredictor(freq=freq, prediction_length=prediction_length, context_length=context_length)\n",
    "predictors['NPTS'] = predictor2"
   ]
  },
  {
   "cell_type": "code",
   "execution_count": null,
   "metadata": {},
   "outputs": [],
   "source": [
    "%%time\n",
    "\n",
    "def configure_model(model):\n",
    "    model.add_seasonality(\n",
    "        name='weekly', period=7, fourier_order=3, prior_scale=0.1\n",
    "    )\n",
    "    return model\n",
    "\n",
    "predictor2 = ProphetPredictor(freq=freq,\n",
    "                              prediction_length=prediction_length,\n",
    "                              init_model=configure_model)\n",
    "predictors['Prophet'] = predictor2"
   ]
  },
  {
   "cell_type": "code",
   "execution_count": null,
   "metadata": {},
   "outputs": [],
   "source": [
    "%%time\n",
    "# TODO\n",
    "predictor2 = RForecastPredictor(freq=freq,\n",
    "                              prediction_length=prediction_length,\n",
    "                              method_name='arima',  # The method from rforecast to be used one of “ets”, “arima”, “tbats” (bug), “croston” (bug), “mlp” (bug).\n",
    "                              period=context_length,\n",
    "                              trunc_length=len(train[0]['target']))\n",
    "predictors['ARIMA'] = predictor2"
   ]
  },
  {
   "cell_type": "code",
   "execution_count": null,
   "metadata": {},
   "outputs": [],
   "source": [
    "%%time\n",
    "\n",
    "predictor2 = SeasonalNaivePredictor(freq=freq, prediction_length=prediction_length)\n",
    "predictors['SeasonalNaive'] = predictor2"
   ]
  },
  {
   "cell_type": "markdown",
   "metadata": {},
   "source": [
    "## Select a predictor"
   ]
  },
  {
   "cell_type": "code",
   "execution_count": 23,
   "metadata": {},
   "outputs": [],
   "source": [
    "# predictor = predictor1\n",
    "# predictor = predictor2\n",
    "predictor = predictors['DeepAR']  # SeasonalNaive"
   ]
  },
  {
   "cell_type": "markdown",
   "metadata": {},
   "source": [
    "## Evaluation"
   ]
  },
  {
   "cell_type": "code",
   "execution_count": 24,
   "metadata": {
    "scrolled": true
   },
   "outputs": [
    {
     "name": "stdout",
     "output_type": "stream",
     "text": [
      "96 96\n",
      "CPU times: user 15.8 s, sys: 734 ms, total: 16.5 s\n",
      "Wall time: 3.73 s\n"
     ]
    }
   ],
   "source": [
    "%%time\n",
    "\n",
    "from gluonts.evaluation.backtest import make_evaluation_predictions\n",
    "\n",
    "forecast_it, ts_it = make_evaluation_predictions(\n",
    "    dataset=predict_ds,  # test dataset\n",
    "    predictor=predictor,  # predictor\n",
    "    num_samples=100,  # number of sample paths we want for evaluation\n",
    ")\n",
    "\n",
    "forecasts = list(forecast_it)\n",
    "tss = list(ts_it)\n",
    "print(len(forecasts), len(tss))"
   ]
  },
  {
   "cell_type": "markdown",
   "metadata": {},
   "source": [
    "## Evaluate All"
   ]
  },
  {
   "cell_type": "code",
   "execution_count": 25,
   "metadata": {},
   "outputs": [
    {
     "name": "stderr",
     "output_type": "stream",
     "text": [
      "Running evaluation: 100%|██████████| 96/96 [00:00<00:00, 1106.91it/s]\n"
     ]
    },
    {
     "name": "stdout",
     "output_type": "stream",
     "text": [
      "{\n",
      "    \"MSE\": 0.4242446650697003,\n",
      "    \"abs_error\": 1579.0352071374655,\n",
      "    \"abs_target_sum\": 4465.389278888702,\n",
      "    \"abs_target_mean\": 0.646034328542926,\n",
      "    \"seasonal_error\": 0.19390923337500898,\n",
      "    \"MASE\": 2.1213109508416905,\n",
      "    \"MAPE\": 0.4067013106016318,\n",
      "    \"sMAPE\": 0.8352045983486903,\n",
      "    \"OWA\": NaN,\n",
      "    \"MSIS\": 24.25924195599407,\n",
      "    \"QuantileLoss[0.1]\": 600.353397468185,\n",
      "    \"Coverage[0.1]\": 0.13498263888888892,\n",
      "    \"QuantileLoss[0.5]\": 1579.035206981123,\n",
      "    \"Coverage[0.5]\": 0.3546006944444446,\n",
      "    \"QuantileLoss[0.9]\": 1028.8095305312654,\n",
      "    \"Coverage[0.9]\": 0.6218171296296299,\n",
      "    \"RMSE\": 0.651340667446537,\n",
      "    \"NRMSE\": 1.0082137104317335,\n",
      "    \"ND\": 0.3536164729473348,\n",
      "    \"wQuantileLoss[0.1]\": 0.13444592620547394,\n",
      "    \"wQuantileLoss[0.5]\": 0.35361647291232273,\n",
      "    \"wQuantileLoss[0.9]\": 0.23039638120582948,\n",
      "    \"mean_absolute_QuantileLoss\": 1069.399378326858,\n",
      "    \"mean_wQuantileLoss\": 0.2394862601078754,\n",
      "    \"MAE_Coverage\": 0.15285493827160482\n",
      "}\n",
      "CPU times: user 20.5 ms, sys: 88.1 ms, total: 109 ms\n",
      "Wall time: 316 ms\n"
     ]
    }
   ],
   "source": [
    "%%time\n",
    "\n",
    "from gluonts.evaluation import Evaluator\n",
    "\n",
    "evaluator = Evaluator(quantiles=[0.1, 0.5, 0.9])\n",
    "agg_metrics, item_metrics = evaluator(iter(tss), iter(forecasts), num_series=len(predict_ds))\n",
    "\n",
    "print(json.dumps(agg_metrics, indent=4))"
   ]
  },
  {
   "cell_type": "code",
   "execution_count": 26,
   "metadata": {},
   "outputs": [
    {
     "data": {
      "text/html": [
       "<div>\n",
       "<style scoped>\n",
       "    .dataframe tbody tr th:only-of-type {\n",
       "        vertical-align: middle;\n",
       "    }\n",
       "\n",
       "    .dataframe tbody tr th {\n",
       "        vertical-align: top;\n",
       "    }\n",
       "\n",
       "    .dataframe thead th {\n",
       "        text-align: right;\n",
       "    }\n",
       "</style>\n",
       "<table border=\"1\" class=\"dataframe\">\n",
       "  <thead>\n",
       "    <tr style=\"text-align: right;\">\n",
       "      <th></th>\n",
       "      <th>item_id</th>\n",
       "      <th>MSE</th>\n",
       "      <th>abs_error</th>\n",
       "      <th>abs_target_sum</th>\n",
       "      <th>abs_target_mean</th>\n",
       "      <th>seasonal_error</th>\n",
       "      <th>MASE</th>\n",
       "      <th>MAPE</th>\n",
       "      <th>sMAPE</th>\n",
       "      <th>OWA</th>\n",
       "      <th>MSIS</th>\n",
       "      <th>QuantileLoss[0.1]</th>\n",
       "      <th>Coverage[0.1]</th>\n",
       "      <th>QuantileLoss[0.5]</th>\n",
       "      <th>Coverage[0.5]</th>\n",
       "      <th>QuantileLoss[0.9]</th>\n",
       "      <th>Coverage[0.9]</th>\n",
       "    </tr>\n",
       "  </thead>\n",
       "  <tbody>\n",
       "    <tr>\n",
       "      <th>0</th>\n",
       "      <td>sd001</td>\n",
       "      <td>0.102791</td>\n",
       "      <td>17.570435</td>\n",
       "      <td>26.978001</td>\n",
       "      <td>0.374694</td>\n",
       "      <td>0.093771</td>\n",
       "      <td>2.602449</td>\n",
       "      <td>0.659265</td>\n",
       "      <td>0.754833</td>\n",
       "      <td>NaN</td>\n",
       "      <td>8.978093</td>\n",
       "      <td>5.317340</td>\n",
       "      <td>0.027778</td>\n",
       "      <td>17.570435</td>\n",
       "      <td>0.388889</td>\n",
       "      <td>6.923779</td>\n",
       "      <td>0.680556</td>\n",
       "    </tr>\n",
       "    <tr>\n",
       "      <th>1</th>\n",
       "      <td>sd002</td>\n",
       "      <td>0.046532</td>\n",
       "      <td>13.429893</td>\n",
       "      <td>36.414001</td>\n",
       "      <td>0.505750</td>\n",
       "      <td>0.118875</td>\n",
       "      <td>1.569096</td>\n",
       "      <td>0.350246</td>\n",
       "      <td>0.438254</td>\n",
       "      <td>NaN</td>\n",
       "      <td>8.215341</td>\n",
       "      <td>5.100562</td>\n",
       "      <td>0.027778</td>\n",
       "      <td>13.429893</td>\n",
       "      <td>0.097222</td>\n",
       "      <td>7.164863</td>\n",
       "      <td>0.527778</td>\n",
       "    </tr>\n",
       "    <tr>\n",
       "      <th>2</th>\n",
       "      <td>sd003</td>\n",
       "      <td>0.000497</td>\n",
       "      <td>0.408069</td>\n",
       "      <td>0.621000</td>\n",
       "      <td>0.008625</td>\n",
       "      <td>0.056223</td>\n",
       "      <td>0.100806</td>\n",
       "      <td>0.541649</td>\n",
       "      <td>0.534197</td>\n",
       "      <td>NaN</td>\n",
       "      <td>3.213629</td>\n",
       "      <td>0.280325</td>\n",
       "      <td>0.027778</td>\n",
       "      <td>0.408069</td>\n",
       "      <td>0.638889</td>\n",
       "      <td>0.754935</td>\n",
       "      <td>1.000000</td>\n",
       "    </tr>\n",
       "    <tr>\n",
       "      <th>3</th>\n",
       "      <td>sd004</td>\n",
       "      <td>0.000030</td>\n",
       "      <td>0.295293</td>\n",
       "      <td>0.000000</td>\n",
       "      <td>0.000000</td>\n",
       "      <td>0.000000</td>\n",
       "      <td>0.000000</td>\n",
       "      <td>0.000000</td>\n",
       "      <td>2.000000</td>\n",
       "      <td>NaN</td>\n",
       "      <td>0.000000</td>\n",
       "      <td>0.216808</td>\n",
       "      <td>0.375000</td>\n",
       "      <td>0.295293</td>\n",
       "      <td>0.722222</td>\n",
       "      <td>0.104909</td>\n",
       "      <td>1.000000</td>\n",
       "    </tr>\n",
       "    <tr>\n",
       "      <th>4</th>\n",
       "      <td>sd005</td>\n",
       "      <td>0.000038</td>\n",
       "      <td>0.138248</td>\n",
       "      <td>0.081000</td>\n",
       "      <td>0.001125</td>\n",
       "      <td>0.012893</td>\n",
       "      <td>0.148928</td>\n",
       "      <td>0.039553</td>\n",
       "      <td>1.992197</td>\n",
       "      <td>NaN</td>\n",
       "      <td>3.587740</td>\n",
       "      <td>0.065706</td>\n",
       "      <td>0.027778</td>\n",
       "      <td>0.138248</td>\n",
       "      <td>0.847222</td>\n",
       "      <td>0.181018</td>\n",
       "      <td>0.958333</td>\n",
       "    </tr>\n",
       "  </tbody>\n",
       "</table>\n",
       "</div>"
      ],
      "text/plain": [
       "  item_id       MSE  abs_error  abs_target_sum  abs_target_mean  \\\n",
       "0   sd001  0.102791  17.570435       26.978001         0.374694   \n",
       "1   sd002  0.046532  13.429893       36.414001         0.505750   \n",
       "2   sd003  0.000497   0.408069        0.621000         0.008625   \n",
       "3   sd004  0.000030   0.295293        0.000000         0.000000   \n",
       "4   sd005  0.000038   0.138248        0.081000         0.001125   \n",
       "\n",
       "   seasonal_error      MASE      MAPE     sMAPE  OWA      MSIS  \\\n",
       "0        0.093771  2.602449  0.659265  0.754833  NaN  8.978093   \n",
       "1        0.118875  1.569096  0.350246  0.438254  NaN  8.215341   \n",
       "2        0.056223  0.100806  0.541649  0.534197  NaN  3.213629   \n",
       "3        0.000000  0.000000  0.000000  2.000000  NaN  0.000000   \n",
       "4        0.012893  0.148928  0.039553  1.992197  NaN  3.587740   \n",
       "\n",
       "   QuantileLoss[0.1]  Coverage[0.1]  QuantileLoss[0.5]  Coverage[0.5]  \\\n",
       "0           5.317340       0.027778          17.570435       0.388889   \n",
       "1           5.100562       0.027778          13.429893       0.097222   \n",
       "2           0.280325       0.027778           0.408069       0.638889   \n",
       "3           0.216808       0.375000           0.295293       0.722222   \n",
       "4           0.065706       0.027778           0.138248       0.847222   \n",
       "\n",
       "   QuantileLoss[0.9]  Coverage[0.9]  \n",
       "0           6.923779       0.680556  \n",
       "1           7.164863       0.527778  \n",
       "2           0.754935       1.000000  \n",
       "3           0.104909       1.000000  \n",
       "4           0.181018       0.958333  "
      ]
     },
     "execution_count": 26,
     "metadata": {},
     "output_type": "execute_result"
    }
   ],
   "source": [
    "item_metrics.head()"
   ]
  },
  {
   "cell_type": "code",
   "execution_count": 27,
   "metadata": {},
   "outputs": [
    {
     "data": {
      "image/png": "[encoded data removed]",
      "text/plain": [
       "<Figure size 432x288 with 1 Axes>"
      ]
     },
     "metadata": {
      "needs_background": "light"
     },
     "output_type": "display_data"
    }
   ],
   "source": [
    "item_metrics.plot(x='MSIS', y='MASE', kind='scatter')\n",
    "plt.grid(which=\"both\")\n",
    "plt.show()"
   ]
  },
  {
   "cell_type": "code",
   "execution_count": 28,
   "metadata": {},
   "outputs": [
    {
     "data": {
      "text/plain": [
       "<AxesSubplot:>"
      ]
     },
     "execution_count": 28,
     "metadata": {},
     "output_type": "execute_result"
    },
    {
     "data": {
      "image/png": "[encoded data removed]",
      "text/plain": [
       "<Figure size 432x288 with 1 Axes>"
      ]
     },
     "metadata": {
      "needs_background": "light"
     },
     "output_type": "display_data"
    }
   ],
   "source": [
    "item_metrics['sMAPE'].plot(kind='bar')"
   ]
  },
  {
   "cell_type": "code",
   "execution_count": 29,
   "metadata": {},
   "outputs": [
    {
     "data": {
      "text/plain": [
       "<AxesSubplot:xlabel='sMAPE'>"
      ]
     },
     "execution_count": 29,
     "metadata": {},
     "output_type": "execute_result"
    },
    {
     "data": {
      "image/png": "[encoded data removed]",
      "text/plain": [
       "<Figure size 432x288 with 1 Axes>"
      ]
     },
     "metadata": {
      "needs_background": "light"
     },
     "output_type": "display_data"
    }
   ],
   "source": [
    "quartiles = pd.cut(item_metrics.sMAPE, [0, .1, .2, .3, .4, .5, .6, .7, .8, .9, 1, 2])\n",
    "#print(quartiles)\n",
    "def get_stats(group):\n",
    "    return {'sMAPE': group.count()}\n",
    "grouped = item_metrics.sMAPE.groupby(quartiles)\n",
    "price_bucket_amount = grouped.apply(get_stats).unstack()\n",
    "#price_bucket_amount\n",
    "price_bucket_amount.plot(kind='bar')"
   ]
  },
  {
   "cell_type": "code",
   "execution_count": 30,
   "metadata": {},
   "outputs": [
    {
     "data": {
      "text/plain": [
       "(12, 0.08950699190109045, 3, 2.0)"
      ]
     },
     "execution_count": 30,
     "metadata": {},
     "output_type": "execute_result"
    }
   ],
   "source": [
    "item_metrics['sMAPE'].idxmin(), item_metrics['sMAPE'].min(), item_metrics['sMAPE'].idxmax(), item_metrics['sMAPE'].max()"
   ]
  },
  {
   "cell_type": "markdown",
   "metadata": {},
   "source": [
    "### Visualize a Result"
   ]
  },
  {
   "cell_type": "code",
   "execution_count": 31,
   "metadata": {},
   "outputs": [],
   "source": [
    "def plot_prob_forecasts(ts_entry, forecast_entry):\n",
    "#     print('ts_entry:', ts_entry)\n",
    "#     print('forecast_entry:', forecast_entry)\n",
    "    plot_length = context_length+prediction_length\n",
    "    prediction_intervals = (50.0, 90.0)\n",
    "#     prediction_intervals = [80.0]\n",
    "    legend = [\"observations\", \"median prediction\"] + [f\"{k}% prediction interval\" for k in prediction_intervals][::-1]\n",
    "\n",
    "    fig, ax = plt.subplots(1, 1, figsize=(10, 7))\n",
    "    pd.plotting.register_matplotlib_converters()  # https://stackoverflow.com/questions/43206554/typeerror-float-argument-must-be-a-string-or-a-number-not-period\n",
    "    ts_entry[-plot_length:].plot(ax=ax)  # plot the time series\n",
    "    forecast_entry.plot(prediction_intervals=prediction_intervals, color='orange')\n",
    "    plt.grid(which=\"both\")\n",
    "    plt.legend(legend, loc=\"upper left\")\n",
    "    plt.show()"
   ]
  },
  {
   "cell_type": "code",
   "execution_count": 32,
   "metadata": {},
   "outputs": [],
   "source": [
    "def show_metrics(customer_id=0, target_quantile=0.5, plot_graph=True):\n",
    "\n",
    "    # first entry of the time series list\n",
    "    ts_entry = tss[customer_id]\n",
    "\n",
    "    # first 5 values of the time series (convert from pandas to numpy)\n",
    "    # print(np.array(ts_entry[:5]).reshape(-1,))\n",
    "\n",
    "    # first entry of dataset.test\n",
    "    dataset_test_entry = next(iter(predict_ds))\n",
    "\n",
    "    # first 5 values\n",
    "    # print(dataset_test_entry['target'][:5])\n",
    "\n",
    "    # first entry of the forecast list\n",
    "    forecast_entry = forecasts[customer_id]\n",
    "\n",
    "    if plot_graph:\n",
    "        print(f\"Number of sample paths: {forecast_entry.num_samples}\")\n",
    "        print(f\"Dimension of samples: {forecast_entry.samples.shape}\")\n",
    "        print(f\"Start date of the forecast window: {forecast_entry.start_date}\")\n",
    "        print(f\"Frequency of the time series: {forecast_entry.freq}\")\n",
    "\n",
    "        print(f\"Mean of the future window:\\n {forecast_entry.mean}\")\n",
    "        print(f\"0.5-quantile (median) of the future window:\\n {forecast_entry.quantile(0.5)}\")\n",
    "        print(f\"target_value:\\n {ts_entry[-prediction_length:].values.reshape((1, -1))}\")\n",
    "\n",
    "        plot_prob_forecasts(ts_entry, forecast_entry)\n",
    "    \n",
    "    y_label = list(ts_entry[-prediction_length:].values.reshape((1, -1))[0])\n",
    "#     y_pred = list(forecast_entry.mean)\n",
    "    y_pred = list(forecast_entry.quantile(target_quantile))\n",
    "    return y_label, y_pred"
   ]
  },
  {
   "cell_type": "code",
   "execution_count": 48,
   "metadata": {
    "scrolled": true
   },
   "outputs": [],
   "source": [
    "target_quantile=0.7\n",
    "y_labels = []\n",
    "y_preds = []\n",
    "\n",
    "for i in range(len(tss)):\n",
    "    y_label, y_pred = show_metrics(i, target_quantile=target_quantile, plot_graph=False)\n",
    "    y_labels.append(y_label)\n",
    "    y_preds.append(y_pred)"
   ]
  },
  {
   "cell_type": "code",
   "execution_count": 49,
   "metadata": {},
   "outputs": [
    {
     "name": "stdout",
     "output_type": "stream",
     "text": [
      "y_labels: 96\n",
      "y_preds: 96\n",
      "RMSE: 0.75704\n",
      "MAE: 0.22425209\n",
      "Target Mean: 0.6460343\n",
      "sMAPE: 0.7637692485032258\n"
     ]
    }
   ],
   "source": [
    "from sklearn import metrics\n",
    "\n",
    "def smape(a, f):\n",
    "    return 1/len(a) * np.sum(2 * np.abs(f-a) / (np.abs(a) + np.abs(f))*100)/100\n",
    "\n",
    "def eval_metric(a, f):\n",
    "#     print('a:', a)\n",
    "#     print('f:', f)\n",
    "    new_a = []\n",
    "    new_f = []\n",
    "    for i in range(len(a)):\n",
    "        if a[i] != 0:\n",
    "            new_a.append(a[i])\n",
    "            new_f.append(f[i])\n",
    "    new_a = np.array(a)\n",
    "    new_f = np.array(f)\n",
    "#     print('new_a:', new_a)\n",
    "#     print('new_f:', new_f)\n",
    "    return np.mean((new_f-new_a)/new_a)\n",
    "\n",
    "def eval_metric2(a, f):\n",
    "#     print('a:', a)\n",
    "#     print('f:', f)\n",
    "    new_a = []\n",
    "    new_f = []\n",
    "    for i in range(len(a)):\n",
    "        if a[i] != 0:\n",
    "            new_a.append(a[i])\n",
    "            new_f.append(f[i])\n",
    "    new_a = np.array(a)\n",
    "    new_f = np.array(f)\n",
    "#     print('new_a:', new_a)\n",
    "#     print('new_f:', new_f)\n",
    "    return np.mean(np.abs(new_f-new_a)/np.abs(new_a))\n",
    "\n",
    "print('y_labels:', len(y_labels))\n",
    "print('y_preds:', len(y_preds))\n",
    "y_labels = np.array(y_labels)\n",
    "y_preds = np.array(y_preds)\n",
    "print(\"RMSE:\",np.sqrt(metrics.mean_squared_error(y_labels, y_preds)))\n",
    "print(\"MAE:\",metrics.mean_absolute_error(y_labels, y_preds))\n",
    "print(\"Target Mean:\",y_labels.mean())\n",
    "smape_score = 0\n",
    "smapes = []\n",
    "rmses = []\n",
    "maes = []\n",
    "means = []\n",
    "for i in range(y_labels.shape[0]):\n",
    "    smapei = smape(y_labels[i], y_preds[i])\n",
    "    rmsei = np.sqrt(metrics.mean_squared_error(y_labels[i], y_preds[i]))\n",
    "    maei = metrics.mean_absolute_error(y_labels[i], y_preds[i])\n",
    "    smape_score += smapei\n",
    "    smapes.append(smapei)\n",
    "    rmses.append(rmsei)\n",
    "    maes.append(maei)\n",
    "    means.append(y_labels[i].mean())\n",
    "print(\"sMAPE:\",smape_score/y_labels.shape[0])"
   ]
  },
  {
   "cell_type": "code",
   "execution_count": 50,
   "metadata": {},
   "outputs": [
    {
     "name": "stdout",
     "output_type": "stream",
     "text": [
      "RMSE: 4.8483515\n",
      "MAE: 3.8999846\n",
      "SMAPE: 0.06243983374701606\n",
      "EVAL METRIC: 0.0023761417\n",
      "EVAL METRIC2: 0.0625473\n",
      "Target Mean: 62.019295\n"
     ]
    }
   ],
   "source": [
    "y_sum_labels = np.sum(y_labels, axis=0)\n",
    "y_sum_preds = np.sum(y_preds, axis=0)\n",
    "print(\"RMSE:\",np.sqrt(metrics.mean_squared_error(y_sum_labels, y_sum_preds)))\n",
    "print(\"MAE:\",metrics.mean_absolute_error(y_sum_labels, y_sum_preds))\n",
    "print(\"SMAPE:\", smape(y_sum_labels, y_sum_preds))\n",
    "print(\"EVAL METRIC:\", eval_metric(y_sum_labels, y_sum_preds))\n",
    "print(\"EVAL METRIC2:\", eval_metric2(y_sum_labels, y_sum_preds))\n",
    "print(\"Target Mean:\",y_sum_labels.mean())"
   ]
  },
  {
   "cell_type": "code",
   "execution_count": 51,
   "metadata": {},
   "outputs": [
    {
     "data": {
      "text/plain": [
       "array([64.03653 , 68.537895, 72.6148  , 75.08879 , 80.31598 , 80.550735,\n",
       "       71.82529 , 64.14833 , 62.98473 , 69.14499 , 69.1782  , 67.862076,\n",
       "       67.34141 , 69.71132 , 72.6077  , 63.14518 , 74.19968 , 76.709595,\n",
       "       70.1675  , 62.231792, 61.378033, 61.29847 , 59.694378, 68.15666 ,\n",
       "       52.393673, 54.676167, 54.79268 , 57.069164, 54.10109 , 55.644165,\n",
       "       59.08216 , 55.607006, 54.21974 , 49.95792 , 45.879837, 48.116917,\n",
       "       55.853085, 52.04791 , 51.045753, 51.070316, 58.73992 , 54.553745,\n",
       "       49.913155, 46.501835, 55.94517 , 53.68184 , 60.800663, 54.393505,\n",
       "       59.13895 , 60.343754, 58.32816 , 59.44729 , 58.592297, 61.147327,\n",
       "       58.439465, 58.601593, 60.40925 , 65.91396 , 60.67971 , 57.046337,\n",
       "       64.00213 , 65.80212 , 65.126465, 59.45954 , 71.807236, 73.677025,\n",
       "       68.59235 , 66.4498  , 66.05583 , 70.53667 , 66.88604 , 69.88842 ],\n",
       "      dtype=float32)"
      ]
     },
     "execution_count": 51,
     "metadata": {},
     "output_type": "execute_result"
    }
   ],
   "source": [
    "y_sum_labels"
   ]
  },
  {
   "cell_type": "code",
   "execution_count": 52,
   "metadata": {},
   "outputs": [
    {
     "data": {
      "text/plain": [
       "array([70.06076 , 70.28747 , 71.14468 , 73.26427 , 72.38772 , 70.210815,\n",
       "       70.43718 , 70.59125 , 68.69719 , 71.73447 , 74.44815 , 73.363365,\n",
       "       71.596176, 73.81133 , 71.11346 , 70.21893 , 71.29601 , 72.97081 ,\n",
       "       69.9423  , 63.263092, 64.597305, 66.75327 , 64.20888 , 60.589386,\n",
       "       57.07352 , 53.778706, 55.51486 , 55.938095, 56.656704, 56.80986 ,\n",
       "       56.717785, 54.97121 , 53.69288 , 53.11555 , 49.646683, 47.31717 ,\n",
       "       53.157722, 55.61626 , 55.832806, 56.172955, 59.831764, 60.218567,\n",
       "       60.193504, 56.651993, 58.628155, 58.66538 , 59.611916, 57.30893 ,\n",
       "       58.430855, 58.076237, 58.11421 , 59.997646, 59.20162 , 58.360607,\n",
       "       58.95854 , 57.78264 , 57.332756, 58.921036, 58.960773, 57.97686 ,\n",
       "       57.84379 , 59.725777, 59.0905  , 59.10275 , 61.450985, 63.588882,\n",
       "       61.233856, 58.19288 , 60.24237 , 62.80253 , 62.617325, 62.118782],\n",
       "      dtype=float32)"
      ]
     },
     "execution_count": 52,
     "metadata": {},
     "output_type": "execute_result"
    }
   ],
   "source": [
    "y_sum_preds"
   ]
  },
  {
   "cell_type": "code",
   "execution_count": 53,
   "metadata": {},
   "outputs": [
    {
     "data": {
      "image/png": "[encoded data removed]",
      "text/plain": [
       "<Figure size 432x288 with 1 Axes>"
      ]
     },
     "metadata": {
      "needs_background": "light"
     },
     "output_type": "display_data"
    }
   ],
   "source": [
    "plt.plot(y_sum_labels,\"b-\",label=\"label\")\n",
    "plt.plot(y_sum_preds,\"r-\",label=\"predict\")\n",
    "plt.show()"
   ]
  },
  {
   "cell_type": "markdown",
   "metadata": {},
   "source": [
    "# Evaluate All Models"
   ]
  },
  {
   "cell_type": "code",
   "execution_count": 57,
   "metadata": {},
   "outputs": [
    {
     "name": "stdout",
     "output_type": "stream",
     "text": [
      "DeepAR\n",
      "96 96\n",
      "RMSE: 4.7895\n",
      "MAE: 3.807435\n",
      "SMAPE: 0.061366640726725256\n",
      "EVAL METRIC: -0.003970862\n",
      "EVAL METRIC2: 0.061140895\n",
      "Target Mean: 62.019295\n"
     ]
    },
    {
     "data": {
      "image/png": "[encoded data removed]",
      "text/plain": [
       "<Figure size 432x288 with 1 Axes>"
      ]
     },
     "metadata": {
      "needs_background": "light"
     },
     "output_type": "display_data"
    }
   ],
   "source": [
    "for name, predictor in predictors.items():\n",
    "    print(name)\n",
    "    \n",
    "    forecast_it, ts_it = make_evaluation_predictions(\n",
    "        dataset=predict_ds,  # test dataset\n",
    "        predictor=predictor,  # predictor\n",
    "        num_samples=100,  # number of sample paths we want for evaluation\n",
    "    )\n",
    "\n",
    "    forecasts = list(forecast_it)\n",
    "    tss = list(ts_it)\n",
    "    print(len(forecasts), len(tss))\n",
    "    \n",
    "    target_quantile = 0.7\n",
    "    y_labels = []\n",
    "    y_preds = []\n",
    "\n",
    "    for i in range(len(tss)):\n",
    "        y_label, y_pred = show_metrics(i, target_quantile=target_quantile, plot_graph=False)\n",
    "        y_labels.append(y_label)\n",
    "        y_preds.append(y_pred)\n",
    "        \n",
    "    y_sum_labels = np.sum(y_labels, axis=0)\n",
    "    y_sum_preds = np.sum(y_preds, axis=0)\n",
    "    print(\"RMSE:\",np.sqrt(metrics.mean_squared_error(y_sum_labels, y_sum_preds)))\n",
    "    print(\"MAE:\",metrics.mean_absolute_error(y_sum_labels, y_sum_preds))\n",
    "    print(\"SMAPE:\", smape(y_sum_labels, y_sum_preds))\n",
    "    print(\"EVAL METRIC:\", eval_metric(y_sum_labels, y_sum_preds))\n",
    "    print(\"EVAL METRIC2:\", eval_metric2(y_sum_labels, y_sum_preds))\n",
    "    print(\"Target Mean:\",y_sum_labels.mean())\n",
    "    \n",
    "    plt.plot(y_sum_labels,\"b-\",label=\"label\")\n",
    "    plt.plot(y_sum_preds,\"r-\",label=\"predict\")\n",
    "    plt.show()"
   ]
  },
  {
   "cell_type": "code",
   "execution_count": null,
   "metadata": {},
   "outputs": [],
   "source": []
  }
 ],
 "metadata": {
  "instance_type": "ml.t3.medium",
  "kernelspec": {
   "display_name": "conda_mxnet_p36",
   "language": "python",
   "name": "conda_mxnet_p36"
  },
  "language_info": {
   "codemirror_mode": {
    "name": "ipython",
    "version": 3
   },
   "file_extension": ".py",
   "mimetype": "text/x-python",
   "name": "python",
   "nbconvert_exporter": "python",
   "pygments_lexer": "ipython3",
   "version": "3.6.13"
  }
 },
 "nbformat": 4,
 "nbformat_minor": 4
}
